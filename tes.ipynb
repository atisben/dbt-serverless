{
 "cells": [
  {
   "cell_type": "code",
   "execution_count": 5,
   "metadata": {},
   "outputs": [],
   "source": [
    "import urllib\n",
    "import google.auth.transport.requests\n",
    "import google.oauth2.id_token"
   ]
  },
  {
   "cell_type": "code",
   "execution_count": 8,
   "metadata": {},
   "outputs": [
    {
     "ename": "DefaultCredentialsError",
     "evalue": "Neither metadata server or valid service account credentials are found.",
     "output_type": "error",
     "traceback": [
      "\u001b[1;31m---------------------------------------------------------------------------\u001b[0m",
      "\u001b[1;31mDefaultCredentialsError\u001b[0m                   Traceback (most recent call last)",
      "Cell \u001b[1;32mIn [8], line 4\u001b[0m\n\u001b[0;32m      2\u001b[0m audience\u001b[38;5;241m=\u001b[39m\u001b[38;5;124m'\u001b[39m\u001b[38;5;124mhttps://dbt-service-45zrjkro3a-ew.a.run.app/\u001b[39m\u001b[38;5;124m'\u001b[39m\n\u001b[0;32m      3\u001b[0m auth_req \u001b[38;5;241m=\u001b[39m google\u001b[38;5;241m.\u001b[39mauth\u001b[38;5;241m.\u001b[39mtransport\u001b[38;5;241m.\u001b[39mrequests\u001b[38;5;241m.\u001b[39mRequest()\n\u001b[1;32m----> 4\u001b[0m id_token \u001b[38;5;241m=\u001b[39m \u001b[43mgoogle\u001b[49m\u001b[38;5;241;43m.\u001b[39;49m\u001b[43moauth2\u001b[49m\u001b[38;5;241;43m.\u001b[39;49m\u001b[43mid_token\u001b[49m\u001b[38;5;241;43m.\u001b[39;49m\u001b[43mfetch_id_token\u001b[49m\u001b[43m(\u001b[49m\u001b[43mauth_req\u001b[49m\u001b[43m,\u001b[49m\u001b[43m \u001b[49m\u001b[43maudience\u001b[49m\u001b[43m)\u001b[49m\n\u001b[0;32m      6\u001b[0m header\u001b[38;5;241m=\u001b[39m {\u001b[38;5;124m\"\u001b[39m\u001b[38;5;124mAuthorization\u001b[39m\u001b[38;5;124m\"\u001b[39m, \u001b[38;5;124mf\u001b[39m\u001b[38;5;124m\"\u001b[39m\u001b[38;5;124mBearer \u001b[39m\u001b[38;5;132;01m{\u001b[39;00mid_token\u001b[38;5;132;01m}\u001b[39;00m\u001b[38;5;124m\"\u001b[39m}\n",
      "File \u001b[1;32mc:\\Users\\User\\dbt-serverless\\.venv\\lib\\site-packages\\google\\oauth2\\id_token.py:339\u001b[0m, in \u001b[0;36mfetch_id_token\u001b[1;34m(request, audience)\u001b[0m\n\u001b[0;32m    301\u001b[0m \u001b[39mdef\u001b[39;00m \u001b[39mfetch_id_token\u001b[39m(request, audience):\n\u001b[0;32m    302\u001b[0m     \u001b[39m\"\"\"Fetch the ID Token from the current environment.\u001b[39;00m\n\u001b[0;32m    303\u001b[0m \n\u001b[0;32m    304\u001b[0m \u001b[39m    This function acquires ID token from the environment in the following order.\u001b[39;00m\n\u001b[1;32m   (...)\u001b[0m\n\u001b[0;32m    337\u001b[0m \u001b[39m            credentials are found.\u001b[39;00m\n\u001b[0;32m    338\u001b[0m \u001b[39m    \"\"\"\u001b[39;00m\n\u001b[1;32m--> 339\u001b[0m     id_token_credentials \u001b[39m=\u001b[39m fetch_id_token_credentials(audience, request\u001b[39m=\u001b[39;49mrequest)\n\u001b[0;32m    340\u001b[0m     id_token_credentials\u001b[39m.\u001b[39mrefresh(request)\n\u001b[0;32m    341\u001b[0m     \u001b[39mreturn\u001b[39;00m id_token_credentials\u001b[39m.\u001b[39mtoken\n",
      "File \u001b[1;32mc:\\Users\\User\\dbt-serverless\\.venv\\lib\\site-packages\\google\\oauth2\\id_token.py:296\u001b[0m, in \u001b[0;36mfetch_id_token_credentials\u001b[1;34m(audience, request)\u001b[0m\n\u001b[0;32m    293\u001b[0m \u001b[39mexcept\u001b[39;00m (\u001b[39mImportError\u001b[39;00m, exceptions\u001b[39m.\u001b[39mTransportError):\n\u001b[0;32m    294\u001b[0m     \u001b[39mpass\u001b[39;00m\n\u001b[1;32m--> 296\u001b[0m \u001b[39mraise\u001b[39;00m exceptions\u001b[39m.\u001b[39mDefaultCredentialsError(\n\u001b[0;32m    297\u001b[0m     \u001b[39m\"\u001b[39m\u001b[39mNeither metadata server or valid service account credentials are found.\u001b[39m\u001b[39m\"\u001b[39m\n\u001b[0;32m    298\u001b[0m )\n",
      "\u001b[1;31mDefaultCredentialsError\u001b[0m: Neither metadata server or valid service account credentials are found."
     ]
    }
   ],
   "source": [
    "req = urllib.request.Request(\"https://dbt-service-45zrjkro3a-ew.a.run.app/test\")\n",
    "audience='https://dbt-service-45zrjkro3a-ew.a.run.app'\n",
    "auth_req = google.auth.transport.requests.Request()\n",
    "id_token = google.oauth2.id_token.fetch_id_token(auth_req, audience)\n",
    "\n",
    "header= {\"Authorization\", f\"Bearer {id_token}\"}"
   ]
  }
 ],
 "metadata": {
  "kernelspec": {
   "display_name": "Python 3.9.0 ('.venv': venv)",
   "language": "python",
   "name": "python3"
  },
  "language_info": {
   "codemirror_mode": {
    "name": "ipython",
    "version": 3
   },
   "file_extension": ".py",
   "mimetype": "text/x-python",
   "name": "python",
   "nbconvert_exporter": "python",
   "pygments_lexer": "ipython3",
   "version": "3.9.0"
  },
  "orig_nbformat": 4,
  "vscode": {
   "interpreter": {
    "hash": "2f81157dacc386e188bbf9780c11288decb5a56e49fd2cd268e03f89cbe5ebd9"
   }
  }
 },
 "nbformat": 4,
 "nbformat_minor": 2
}
