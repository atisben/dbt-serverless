{
 "cells": [
  {
   "cell_type": "code",
   "execution_count": 5,
   "metadata": {},
   "outputs": [],
   "source": [
    "from google.cloud import storage\n",
    "import logging\n",
    "import os"
   ]
  },
  {
   "cell_type": "code",
   "execution_count": 27,
   "metadata": {},
   "outputs": [],
   "source": [
    "def findOccurrences(s, ch): # to find position of '/' in blob path ,used to create folders in local storage\n",
    "    return [i for i, letter in enumerate(s) if letter == ch]\n",
    "def download_from_bucket(bucket_name, blob_path, local_path):    \n",
    "    # Create this folder locally\n",
    "    if not os.path.exists(local_path):\n",
    "        os.makedirs(local_path)        \n",
    "\n",
    "    storage_client = storage.Client('test-dbt-377710')\n",
    "    bucket = storage_client.get_bucket(bucket_name)\n",
    "    blobs=list(bucket.list_blobs(prefix=blob_path))\n",
    "\n",
    "\n",
    "    startloc = 0\n",
    "    for blob in blobs:\n",
    "        startloc = 0\n",
    "        folderloc = findOccurrences(blob.name.replace(blob_path, ''), '/') \n",
    "        if(not blob.name.endswith(\"/\")):\n",
    "            if(blob.name.replace(blob_path, '').find(\"/\") == -1):\n",
    "                downloadpath=local_path + '/' + blob.name.replace(blob_path, '')\n",
    "                logging.info(downloadpath)\n",
    "                blob.download_to_filename(downloadpath)\n",
    "            else:\n",
    "                for folder in folderloc:\n",
    "                    \n",
    "                    if not os.path.exists(local_path + '/' + blob.name.replace(blob_path, '')[startloc:folder]):\n",
    "                        create_folder=local_path + '/' +blob.name.replace(blob_path, '')[0:startloc]+ '/' +blob.name.replace(blob_path, '')[startloc:folder]\n",
    "                        startloc = folder + 1\n",
    "                        os.makedirs(create_folder)\n",
    "                    \n",
    "                downloadpath=local_path + '/' + blob.name.replace(blob_path, '')\n",
    "\n",
    "                blob.download_to_filename(downloadpath)\n",
    "                logging.info(blob.name.replace(blob_path, '')[0:blob.name.replace(blob_path, '').find(\"/\")])\n",
    "\n",
    "    logging.info('Blob {} downloaded to {}.'.format(blob_path, local_path))\n",
    "    print('Blob {} downloaded to {}.'.format(blob_path, local_path))"
   ]
  },
  {
   "cell_type": "code",
   "execution_count": 28,
   "metadata": {},
   "outputs": [
    {
     "name": "stderr",
     "output_type": "stream",
     "text": [
      "WARNING:google.auth._default:No project ID could be determined. Consider running `gcloud config set project` or setting the GOOGLE_CLOUD_PROJECT environment variable\n"
     ]
    },
    {
     "name": "stdout",
     "output_type": "stream",
     "text": [
      "Blob models downloaded to project/models.\n"
     ]
    },
    {
     "name": "stderr",
     "output_type": "stream",
     "text": [
      "WARNING:google.auth._default:No project ID could be determined. Consider running `gcloud config set project` or setting the GOOGLE_CLOUD_PROJECT environment variable\n"
     ]
    },
    {
     "name": "stdout",
     "output_type": "stream",
     "text": [
      "Blob profiles downloaded to profiles_test.\n"
     ]
    }
   ],
   "source": [
    "\n",
    "    # Import the content of the models GCS bucket\n",
    "    download_from_bucket(\"dbt-service\", \"models\", \"project/models/\")\n",
    "    # Import the content of the profiles GCS bucket\n",
    "    download_from_bucket(\"dbt-service\", \"profiles\", \"profiles_test/\")"
   ]
  }
 ],
 "metadata": {
  "kernelspec": {
   "display_name": ".venv",
   "language": "python",
   "name": "python3"
  },
  "language_info": {
   "codemirror_mode": {
    "name": "ipython",
    "version": 3
   },
   "file_extension": ".py",
   "mimetype": "text/x-python",
   "name": "python",
   "nbconvert_exporter": "python",
   "pygments_lexer": "ipython3",
   "version": "3.9.13"
  },
  "orig_nbformat": 4,
  "vscode": {
   "interpreter": {
    "hash": "1363fc5b7457a84ca8361374da08cf9c55967efef6e488331e4ab47c3c10f9c8"
   }
  }
 },
 "nbformat": 4,
 "nbformat_minor": 2
}
